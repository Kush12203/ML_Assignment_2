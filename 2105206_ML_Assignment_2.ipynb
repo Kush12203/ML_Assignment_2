{
 "cells": [
  {
   "cell_type": "code",
   "execution_count": 1,
   "metadata": {},
   "outputs": [],
   "source": [
    "import numpy as np\n",
    "import matplotlib.pyplot as plt"
   ]
  },
  {
   "cell_type": "code",
   "execution_count": null,
   "metadata": {},
   "outputs": [],
   "source": [
    "def load_dataset():\n",
    "    X = np.loadtxt(\"logisticX.csv\", delimiter=',')\n",
    "    y = np.loadtxt(\"logisticY.csv\")\n",
    "    X = (X - np.mean(X, axis=0)) / np.std(X, axis=0)\n",
    "    return X, y"
   ]
  },
  {
   "cell_type": "code",
   "execution_count": null,
   "metadata": {},
   "outputs": [],
   "source": [
    "def sigmoid(z):\n",
    "    return 1 / (1 + np.exp(-z))"
   ]
  },
  {
   "cell_type": "code",
   "execution_count": null,
   "metadata": {},
   "outputs": [],
   "source": [
    "def compute_cost(X, y, theta):\n",
    "    m = len(y)\n",
    "    h = sigmoid(np.dot(X, theta))\n",
    "    cost = -1/m * np.sum(y * np.log(h) + (1 - y) * np.log(1 - h))\n",
    "    return cost"
   ]
  },
  {
   "cell_type": "code",
   "execution_count": null,
   "metadata": {},
   "outputs": [],
   "source": [
    "def gradient_descent(X, y, theta, alpha, iterations):\n",
    "    m = len(y)\n",
    "    cost_history = []\n",
    "    for _ in range(iterations):\n",
    "        h = sigmoid(np.dot(X, theta))\n",
    "        gradient = np.dot(X.T, (h - y)) / m\n",
    "        theta -= alpha * gradient\n",
    "        cost = compute_cost(X, y, theta)\n",
    "        cost_history.append(cost)\n",
    "    return theta, cost_history\n"
   ]
  },
  {
   "cell_type": "code",
   "execution_count": null,
   "metadata": {},
   "outputs": [],
   "source": [
    "\n",
    "def plot_cost_vs_iteration(cost_history_01, cost_history_5):\n",
    "    plt.plot(range(len(cost_history_01)), cost_history_01, color='blue', label='Learning Rate 0.1')\n",
    "    plt.plot(range(len(cost_history_5)), cost_history_5, color='red', label='Learning Rate 5')\n",
    "    plt.xlabel('Iterations')\n",
    "    plt.ylabel('Cost Function Value')\n",
    "    plt.title('Cost Function vs Iteration')\n",
    "    plt.legend()\n",
    "    plt.show()"
   ]
  },
  {
   "cell_type": "code",
   "execution_count": null,
   "metadata": {},
   "outputs": [],
   "source": [
    "X, y = load_dataset()\n",
    "X = np.hstack((np.ones((len(y), 1)), X))\n",
    "theta = np.zeros(X.shape[1])"
   ]
  },
  {
   "cell_type": "code",
   "execution_count": null,
   "metadata": {},
   "outputs": [],
   "source": [
    "learning_rate_01 = 0.1\n",
    "learning_rate_5 = 5\n",
    "iterations = 100\n",
    "\n",
    "theta_01, cost_history_01 = gradient_descent(X, y, theta, learning_rate_01, iterations)\n",
    "theta_5, cost_history_5 = gradient_descent(X, y, theta, learning_rate_5, iterations)\n",
    "\n",
    "\n",
    "\n",
    "plot_cost_vs_iteration(cost_history_01, cost_history_5)"
   ]
  },
  {
   "cell_type": "code",
   "execution_count": null,
   "metadata": {},
   "outputs": [],
   "source": [
    "def plot_decision_boundary(X, y, theta):\n",
    "    x_values = [np.min(X[:,1] - 2), np.max(X[:,2] + 2)]\n",
    "    y_values = - (theta[0] + np.dot(theta[1], x_values)) / theta[2]\n",
    "    plt.plot(x_values, y_values, label='Decision Boundary')\n"
   ]
  },
  {
   "cell_type": "code",
   "execution_count": null,
   "metadata": {},
   "outputs": [],
   "source": [
    "def plot_cost_vs_iteration(cost_history):\n",
    "    plt.plot(range(len(cost_history)), cost_history, color='blue')\n",
    "    plt.xlabel('Iterations')\n",
    "    plt.ylabel('Cost Function Value')\n",
    "    plt.title('Cost Function vs Iteration')\n",
    "    plt.show()\n"
   ]
  },
  {
   "cell_type": "code",
   "execution_count": null,
   "metadata": {},
   "outputs": [],
   "source": [
    "def plot_dataset_with_decision_boundary(X, y, theta):\n",
    "    plt.scatter(X[:,1][y == 1], X[:,2][y == 1], color='red', label='Class 1')\n",
    "    plt.scatter(X[:,1][y == 0], X[:,2][y == 0], color='blue', label='Class 0')\n",
    "    plot_decision_boundary(X, y, theta)\n",
    "    plt.xlabel('Feature 1')\n",
    "    plt.ylabel('Feature 2')\n",
    "    plt.title('Dataset with Decision Boundary')\n",
    "    plt.legend()\n",
    "    plt.show()\n"
   ]
  },
  {
   "cell_type": "code",
   "execution_count": null,
   "metadata": {},
   "outputs": [],
   "source": [
    "def confusion_matrix(X, y, theta):\n",
    "    predicted_probabilities = sigmoid(np.dot(X, theta))\n",
    "    predicted_labels = (predicted_probabilities >= 0.5).astype(int)\n",
    "    tp = np.sum((predicted_labels == 1) & (y == 1))\n",
    "    fp = np.sum((predicted_labels == 1) & (y == 0))\n",
    "    tn = np.sum((predicted_labels == 0) & (y == 0))\n",
    "    fn = np.sum((predicted_labels == 0) & (y == 1))\n",
    "    return np.array([[tp, fp], [fn, tn]])\n"
   ]
  },
  {
   "cell_type": "code",
   "execution_count": null,
   "metadata": {},
   "outputs": [],
   "source": [
    "def calculate_metrics(confusion_matrix):\n",
    "    tp, fp, fn, tn = confusion_matrix.flatten()\n",
    "    accuracy = (tp + tn) / (tp + fp + fn + tn)\n",
    "    precision = tp / (tp + fp)\n",
    "    recall = tp / (tp + fn)\n",
    "    f1_score = 2 * (precision * recall) / (precision + recall)\n",
    "    return accuracy, precision, recall, f1_score\n",
    "\n"
   ]
  },
  {
   "cell_type": "code",
   "execution_count": null,
   "metadata": {},
   "outputs": [],
   "source": [
    "X, y = load_dataset()\n",
    "X = np.hstack((np.ones((len(y), 1)), X))\n",
    "theta = np.zeros(X.shape[1])"
   ]
  },
  {
   "cell_type": "code",
   "execution_count": null,
   "metadata": {},
   "outputs": [],
   "source": [
    "learning_rate = 0.1\n",
    "iterations = 100\n",
    "theta, cost_history = gradient_descent(X, y, theta, learning_rate, iterations)\n",
    "plot_cost_vs_iteration(cost_history)\n",
    "plot_dataset_with_decision_boundary(X, y, theta)\n",
    "conf_matrix = confusion_matrix(X, y, theta)\n",
    "accuracy, precision, recall, f1_score = calculate_metrics(conf_matrix)"
   ]
  },
  {
   "cell_type": "code",
   "execution_count": null,
   "metadata": {},
   "outputs": [
    {
     "ename": "",
     "evalue": "",
     "output_type": "error",
     "traceback": [
      "\u001b[1;31mRunning cells with 'c:\\Users\\KIIT\\AppData\\Local\\Microsoft\\WindowsApps\\python3.12.exe' requires the ipykernel package.\n",
      "\u001b[1;31mRun the following command to install 'ipykernel' into the Python environment. \n",
      "\u001b[1;31mCommand: 'c:/Users/KIIT/AppData/Local/Microsoft/WindowsApps/python3.12.exe -m pip install ipykernel -U --user --force-reinstall'"
     ]
    }
   ],
   "source": [
    "print(\"Confusion Matrix:\")\n",
    "print(conf_matrix)\n",
    "print(\"Accuracy:\", accuracy)\n",
    "print(\"Precision:\", precision)\n",
    "print(\"Recall:\", recall)\n",
    "print(\"F1 Score:\", f1_score)"
   ]
  },
  {
   "cell_type": "code",
   "execution_count": null,
   "metadata": {},
   "outputs": [],
   "source": [
    "cost_after_convergence = cost_history[-1]\n",
    "learned_parameters_after_convergence = theta\n",
    "print(\"Cost Function Value after Convergence:\", cost_after_convergence)\n",
    "print(\"Learning Parameter Values after Convergence:\", learned_parameters_after_convergence)\n"
   ]
  }
 ],
 "metadata": {
  "kernelspec": {
   "display_name": "Python 3",
   "language": "python",
   "name": "python3"
  },
  "language_info": {
   "codemirror_mode": {
    "name": "ipython",
    "version": 3
   },
   "file_extension": ".py",
   "mimetype": "text/x-python",
   "name": "python",
   "nbconvert_exporter": "python",
   "pygments_lexer": "ipython3",
   "version": "3.12.2"
  }
 },
 "nbformat": 4,
 "nbformat_minor": 2
}
